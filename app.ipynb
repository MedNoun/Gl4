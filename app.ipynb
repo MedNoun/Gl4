{
 "cells": [
  {
   "cell_type": "code",
   "execution_count": null,
   "metadata": {},
   "outputs": [],
   "source": [
    "import matplotlib.pyplot as plt\n",
    "\n",
    "import numpy as np\n",
    "from numpy import array, int32"
   ]
  },
  {
   "cell_type": "code",
   "execution_count": null,
   "metadata": {},
   "outputs": [],
   "source": [
    "def read_pgm(path):\n",
    "    with open(path, 'rb') as pgmf:\n",
    "        im = plt.imread(pgmf)\n",
    "    return im"
   ]
  },
  {
   "cell_type": "code",
   "execution_count": null,
   "metadata": {},
   "outputs": [],
   "source": [
    "def moyenneGris(matrice) : \n",
    "    somme = 0\n",
    "    for i in range(0,matrice.shape[0]) :\n",
    "        for j in range(0,matrice.shape[1]): \n",
    "            somme += matrice[i][j]\n",
    "    \n",
    "    return somme / (matrice.shape[0] * matrice.shape[1])"
   ]
  },
  {
   "cell_type": "code",
   "execution_count": null,
   "metadata": {},
   "outputs": [],
   "source": [
    "def ecartypeGris(matrice) :\n",
    "    somme = 0\n",
    "    moy = moyenneGris(matrice)\n",
    "    for i in range(0,matrice.shape[0]) :\n",
    "        for j in range(0,matrice.shape[1]): \n",
    "            somme += (matrice[i][j]- moy)**2"
   ]
  }
 ],
 "metadata": {
  "kernelspec": {
   "display_name": "Python 3.10.7 64-bit",
   "language": "python",
   "name": "python3"
  },
  "language_info": {
   "name": "python",
   "version": "3.10.7"
  },
  "orig_nbformat": 4,
  "vscode": {
   "interpreter": {
    "hash": "916dbcbb3f70747c44a77c7bcd40155683ae19c65e1c03b4aa3499c5328201f1"
   }
  }
 },
 "nbformat": 4,
 "nbformat_minor": 2
}
